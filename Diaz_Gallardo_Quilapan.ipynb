{
 "cells": [
  {
   "cell_type": "markdown",
   "metadata": {},
   "source": [
    "# Tarea 3\n",
    "\n",
    "El siguiente código se preparó para resolver nuestra tercera tarea del curso, en donde prepocesaremos la data entregada, para posteriormente procesarla a través de tres modelos, como son Regresión Logística, Árbol de Decisión y Redes Neuronales.\n",
    "\n",
    "Elaborado por Maximiliano Díaz, Fernando Gallardo, Josué Quilapan."
   ]
  },
  {
   "cell_type": "markdown",
   "metadata": {},
   "source": [
    "# 1.- Carga de Datos"
   ]
  },
  {
   "cell_type": "code",
   "execution_count": 5,
   "metadata": {},
   "outputs": [
    {
     "name": "stdout",
     "output_type": "stream",
     "text": [
      "Cantidad de Datos (N)= 36168\n",
      "Cantidad de Variables (M) = 18\n"
     ]
    }
   ],
   "source": [
    "import warnings\n",
    "warnings.filterwarnings(\"ignore\")\n",
    "import time\n",
    "start_time = time.time()\n",
    "import pandas as pd\n",
    "import numpy as np\n",
    "\n",
    "# Leyendo los datos de un archivo csv:\n",
    "data = pd.read_csv('X_y_train.csv')\n",
    "test = pd.read_csv('X_test.csv')\n",
    "print('Cantidad de Datos (N)= ' + str(len(data)))\n",
    "print('Cantidad de Variables (M) = ' + str(len(data.columns)))"
   ]
  },
  {
   "cell_type": "markdown",
   "metadata": {},
   "source": [
    "### Borrar Id.\n",
    "\n",
    "El primer paso de preprocesamiento, será borrar la variable id, ya que no aporta información relevante."
   ]
  },
  {
   "cell_type": "code",
   "execution_count": 6,
   "metadata": {},
   "outputs": [],
   "source": [
    "data_1 = data.drop('Id', axis=1)\n",
    "test_1 = test.drop('Id', axis=1)\n",
    "data_train_total = data.drop('Id', axis=1)"
   ]
  },
  {
   "cell_type": "markdown",
   "metadata": {},
   "source": [
    "### Transformación de variables binarias.\n",
    "Se transforman las variables binarias que estan en texto a valores 1 y 0."
   ]
  },
  {
   "cell_type": "code",
   "execution_count": 7,
   "metadata": {},
   "outputs": [],
   "source": [
    "#Varible default\n",
    "Default = {'yes': 1,'no': 0}\n",
    "data_1.default = [Default[i] for i in data_1.default]\n",
    "test_1.default = [Default[i] for i in test_1.default]\n",
    "data_train_total.default = [Default[i] for i in data_train_total.default]\n",
    "\n",
    "#Varible loan\n",
    "Loan = {'yes': 1,'no': 0}\n",
    "data_1.loan = [Loan[i] for i in data_1.loan]\n",
    "test_1.loan = [Loan[i] for i in test_1.loan]\n",
    "data_train_total.loan = [Loan[i] for i in data_train_total.loan]\n",
    "\n",
    "#Varible housing\n",
    "Housing = {'yes': 1,'no': 0}\n",
    "data_1.housing = [Housing[i] for i in data_1.housing]\n",
    "test_1.housing = [Housing[i] for i in test_1.housing]\n",
    "data_train_total.housing = [Housing[i] for i in data_train_total.housing]"
   ]
  },
  {
   "cell_type": "markdown",
   "metadata": {},
   "source": [
    "### Transformación de variables categóricas.\n",
    "Las variables categoricas son convertidas a dummies, de esta forma no ponderamos una categoría por sobre otra."
   ]
  },
  {
   "cell_type": "code",
   "execution_count": 8,
   "metadata": {},
   "outputs": [],
   "source": [
    "data_2 = data_1.copy()\n",
    "data_2 = pd.get_dummies(data_2, columns=['job','marital','education','contact','month','poutcome'])\n",
    "test_2 = test_1.copy()\n",
    "test_2 = pd.get_dummies(test_2, columns=['job','marital','education','contact','month','poutcome'])\n",
    "data_train_total_2 = data_train_total.copy()\n",
    "data_train_total_2 = pd.get_dummies(data_train_total_2, columns=['job','marital','education','contact','month','poutcome'])"
   ]
  },
  {
   "cell_type": "markdown",
   "metadata": {},
   "source": [
    "### Transformación de la variable $y$.\n",
    "Se tranforma la variable $y$ a dummie, en donde $yes$ toma el valor de 1 y $no$ toma el valor 0."
   ]
  },
  {
   "cell_type": "code",
   "execution_count": 9,
   "metadata": {},
   "outputs": [],
   "source": [
    "data_2 = pd.get_dummies(data_2, columns=['y'], drop_first = True)\n",
    "data_train_total_2 = pd.get_dummies(data_train_total_2, columns=['y'], drop_first = True)"
   ]
  },
  {
   "cell_type": "markdown",
   "metadata": {},
   "source": [
    "### División base Data.\n",
    "Se divide la base data en train y test, otorgando un 80% a train y un 20% a test, tal como se indica en el enunciado."
   ]
  },
  {
   "cell_type": "code",
   "execution_count": 10,
   "metadata": {},
   "outputs": [],
   "source": [
    "from sklearn.model_selection import train_test_split\n",
    "\n",
    "variables = data_2.columns[:-1]\n",
    "target = data_2.columns[-1]\n",
    "X_train, X_test, y_train, y_test = train_test_split(data_2[variables], data_2[target], test_size=0.2, \n",
    "                                                                           stratify = data_2[target], random_state=0)"
   ]
  },
  {
   "cell_type": "markdown",
   "metadata": {},
   "source": [
    "### División base Data total.\n",
    "Se separan las variables dependiente e independiente de la base data total."
   ]
  },
  {
   "cell_type": "code",
   "execution_count": 11,
   "metadata": {},
   "outputs": [],
   "source": [
    "X_train_total = data_train_total_2[data_train_total_2.columns[:-1]]\n",
    "y_train_total = data_train_total_2[data_train_total_2.columns[-1]]"
   ]
  },
  {
   "cell_type": "markdown",
   "metadata": {},
   "source": [
    "### Cálculo de AUC de cada variable.\n",
    "Se calcula el auc de cada variable, de esta forma poder obtener cierto ranking sobre las variables que se crearon."
   ]
  },
  {
   "cell_type": "code",
   "execution_count": 12,
   "metadata": {},
   "outputs": [
    {
     "data": {
      "text/html": [
       "<div>\n",
       "<style scoped>\n",
       "    .dataframe tbody tr th:only-of-type {\n",
       "        vertical-align: middle;\n",
       "    }\n",
       "\n",
       "    .dataframe tbody tr th {\n",
       "        vertical-align: top;\n",
       "    }\n",
       "\n",
       "    .dataframe thead th {\n",
       "        text-align: right;\n",
       "    }\n",
       "</style>\n",
       "<table border=\"1\" class=\"dataframe\">\n",
       "  <thead>\n",
       "    <tr style=\"text-align: right;\">\n",
       "      <th></th>\n",
       "      <th>variable</th>\n",
       "      <th>auc</th>\n",
       "    </tr>\n",
       "  </thead>\n",
       "  <tbody>\n",
       "    <tr>\n",
       "      <th>6</th>\n",
       "      <td>duration</td>\n",
       "      <td>0.701650</td>\n",
       "    </tr>\n",
       "    <tr>\n",
       "      <th>31</th>\n",
       "      <td>contact_unknown</td>\n",
       "      <td>0.604549</td>\n",
       "    </tr>\n",
       "    <tr>\n",
       "      <th>3</th>\n",
       "      <td>housing</td>\n",
       "      <td>0.604079</td>\n",
       "    </tr>\n",
       "    <tr>\n",
       "      <th>29</th>\n",
       "      <td>contact_cellular</td>\n",
       "      <td>0.601980</td>\n",
       "    </tr>\n",
       "    <tr>\n",
       "      <th>9</th>\n",
       "      <td>previous</td>\n",
       "      <td>0.601043</td>\n",
       "    </tr>\n",
       "  </tbody>\n",
       "</table>\n",
       "</div>"
      ],
      "text/plain": [
       "            variable       auc\n",
       "6           duration  0.701650\n",
       "31   contact_unknown  0.604549\n",
       "3            housing  0.604079\n",
       "29  contact_cellular  0.601980\n",
       "9           previous  0.601043"
      ]
     },
     "execution_count": 12,
     "metadata": {},
     "output_type": "execute_result"
    }
   ],
   "source": [
    "from sklearn.model_selection import cross_val_score\n",
    "from sklearn import tree\n",
    "clf = tree.DecisionTreeClassifier()\n",
    "\n",
    "auc_variables = pd.DataFrame(columns=['variable', 'auc'])\n",
    "\n",
    "for var in variables:\n",
    "    x = X_train[var]\n",
    "    scores = cross_val_score(clf, x.values.reshape(-1,1), y_train, cv=3, scoring = 'roc_auc')\n",
    "    auc_variables.loc[len(auc_variables)] = [var, np.mean(scores)]\n",
    "auc_variables = auc_variables.sort_values(by=['auc'], ascending=False)\n",
    "auc_variables.head()"
   ]
  },
  {
   "cell_type": "markdown",
   "metadata": {},
   "source": [
    "### Definición de variables relevantes.\n",
    "Se definen las variables relevantes, aquellas que cumplan el criterio de AUC sea mayor a 0.5, siendo considerado este un criterio aceptable por nuestro grupo."
   ]
  },
  {
   "cell_type": "code",
   "execution_count": 13,
   "metadata": {},
   "outputs": [],
   "source": [
    "variables_pred = auc_variables.loc[auc_variables['auc']>0.5, 'variable']"
   ]
  },
  {
   "cell_type": "markdown",
   "metadata": {},
   "source": [
    "### Normalización de la data.\n",
    "Se procede a normalizar las distintas datas que tenemos, entre ellas la data que generamos a partir del split, y también, la base train total."
   ]
  },
  {
   "cell_type": "code",
   "execution_count": 14,
   "metadata": {},
   "outputs": [],
   "source": [
    "from sklearn import preprocessing\n",
    "norm_mean = preprocessing.StandardScaler().fit(X_train[variables_pred])\n",
    "X_train_norm = pd.DataFrame(norm_mean.transform(X_train[variables_pred]), \n",
    "                            columns = X_train[variables_pred].columns)\n",
    "X_test_norm = pd.DataFrame(norm_mean.transform(X_test[variables_pred]), columns=X_test[variables_pred].columns)\n",
    "\n",
    "norm_mean_train_total = preprocessing.StandardScaler().fit(X_train_total[variables_pred])\n",
    "X_train_total_norm = pd.DataFrame(norm_mean_train_total.transform(X_train_total[variables_pred]), \n",
    "                                  columns = X_train_total[variables_pred].columns)"
   ]
  },
  {
   "cell_type": "markdown",
   "metadata": {},
   "source": [
    "# 2.- Regresión Logística\n",
    "En este apartado, vamos a optimizar dos parámetros de la regresión logística, tales como \"C\" y el \"Penalty\". Una vez encontrados estos valores óptimos, procedemos a entrenar el modelo con los mejores parámetros."
   ]
  },
  {
   "cell_type": "code",
   "execution_count": 15,
   "metadata": {},
   "outputs": [
    {
     "name": "stdout",
     "output_type": "stream",
     "text": [
      "C escogido: 0.01\n",
      "Penalty escogida: l1\n"
     ]
    }
   ],
   "source": [
    "from sklearn.linear_model import LogisticRegression\n",
    "from sklearn.model_selection import GridSearchCV\n",
    "\n",
    "rl = LogisticRegression(random_state=0, class_weight='balanced')\n",
    "parameters = {'C':[1, 0.1, 0.01], 'penalty': ['l1','l2']}\n",
    "clf = GridSearchCV(rl, parameters, scoring = 'roc_auc', cv = 2)\n",
    "clf.fit(X_train_norm, y_train)\n",
    "print('C escogido: ' +str(clf.best_params_['C']))\n",
    "print('Penalty escogida: ' +str(clf.best_params_['penalty']))"
   ]
  },
  {
   "cell_type": "code",
   "execution_count": 16,
   "metadata": {},
   "outputs": [],
   "source": [
    "rl_best = LogisticRegression(random_state=0, C= clf.best_params_['C'], penalty = clf.best_params_['penalty'], class_weight='balanced')\n",
    "rl_best.fit(X_train_norm, y_train)\n",
    "y_pred = rl_best.predict(X_train_norm)\n",
    "y_pred_proba = rl_best.predict_proba(X_train_norm)[:,1]"
   ]
  },
  {
   "cell_type": "code",
   "execution_count": 17,
   "metadata": {},
   "outputs": [],
   "source": [
    "from sklearn.metrics import precision_recall_fscore_support\n",
    "from sklearn.metrics import roc_auc_score\n",
    "\n",
    "measures_train = precision_recall_fscore_support(y_train, y_pred, average = 'binary')\n",
    "auc_train = roc_auc_score(y_train, y_pred_proba)\n",
    "accuracy_train = np.sum(y_train==y_pred) / len(X_train)"
   ]
  },
  {
   "cell_type": "code",
   "execution_count": 18,
   "metadata": {},
   "outputs": [],
   "source": [
    "resultados = pd.DataFrame()\n",
    "resultados['Metric'] = ['Precision', 'Recall', 'F-Score', 'AUC', 'Accuracy']\n",
    "resultados['LR_Train'] = [measures_train[0],measures_train[1],measures_train[2],auc_train,accuracy_train]"
   ]
  },
  {
   "cell_type": "code",
   "execution_count": 15,
   "metadata": {},
   "outputs": [
    {
     "name": "stdout",
     "output_type": "stream",
     "text": [
      "--- 35.381935358047485 seconds ---\n"
     ]
    },
    {
     "data": {
      "text/html": [
       "<div>\n",
       "<style scoped>\n",
       "    .dataframe tbody tr th:only-of-type {\n",
       "        vertical-align: middle;\n",
       "    }\n",
       "\n",
       "    .dataframe tbody tr th {\n",
       "        vertical-align: top;\n",
       "    }\n",
       "\n",
       "    .dataframe thead th {\n",
       "        text-align: right;\n",
       "    }\n",
       "</style>\n",
       "<table border=\"1\" class=\"dataframe\">\n",
       "  <thead>\n",
       "    <tr style=\"text-align: right;\">\n",
       "      <th></th>\n",
       "      <th>Metric</th>\n",
       "      <th>LR_Train</th>\n",
       "      <th>LR_Test</th>\n",
       "    </tr>\n",
       "  </thead>\n",
       "  <tbody>\n",
       "    <tr>\n",
       "      <th>0</th>\n",
       "      <td>Precision</td>\n",
       "      <td>0.413726</td>\n",
       "      <td>0.429102</td>\n",
       "    </tr>\n",
       "    <tr>\n",
       "      <th>1</th>\n",
       "      <td>Recall</td>\n",
       "      <td>0.813885</td>\n",
       "      <td>0.819149</td>\n",
       "    </tr>\n",
       "    <tr>\n",
       "      <th>2</th>\n",
       "      <td>F-Score</td>\n",
       "      <td>0.548586</td>\n",
       "      <td>0.563186</td>\n",
       "    </tr>\n",
       "    <tr>\n",
       "      <th>3</th>\n",
       "      <td>AUC</td>\n",
       "      <td>0.910104</td>\n",
       "      <td>0.915491</td>\n",
       "    </tr>\n",
       "    <tr>\n",
       "      <th>4</th>\n",
       "      <td>Accuracy</td>\n",
       "      <td>0.843299</td>\n",
       "      <td>0.851396</td>\n",
       "    </tr>\n",
       "  </tbody>\n",
       "</table>\n",
       "</div>"
      ],
      "text/plain": [
       "      Metric  LR_Train   LR_Test\n",
       "0  Precision  0.413726  0.429102\n",
       "1     Recall  0.813885  0.819149\n",
       "2    F-Score  0.548586  0.563186\n",
       "3        AUC  0.910104  0.915491\n",
       "4   Accuracy  0.843299  0.851396"
      ]
     },
     "execution_count": 15,
     "metadata": {},
     "output_type": "execute_result"
    }
   ],
   "source": [
    "y_pred_test_rl = rl_best.predict(X_test_norm)\n",
    "y_pred_proba_test_rl = rl_best.predict_proba(X_test_norm)[:,1]\n",
    "\n",
    "measures_test = precision_recall_fscore_support(y_test, y_pred_test_rl, average = 'binary')\n",
    "auc_test = roc_auc_score(y_test, y_pred_proba_test_rl)\n",
    "accuracy_test = np.sum(y_test==y_pred_test_rl) / len(X_test)\n",
    "\n",
    "resultados['LR_Test'] = [measures_test[0],measures_test[1],measures_test[2],auc_test,accuracy_test]\n",
    "print(\"--- %s seconds ---\" % (time.time() - start_time))\n",
    "resultados"
   ]
  },
  {
   "cell_type": "markdown",
   "metadata": {},
   "source": [
    "# 3.- Árbol de decisión\n",
    "Para abordar este modelo, vamos a proceder a optimizar tres hiperparámetros, tales como la proporción que tendrán las hojas finales, la profundidad que tendrá y el criterio que se va a usar.\n",
    "Con los mejores parámetros, procedemos a entrenar este modelo."
   ]
  },
  {
   "cell_type": "code",
   "execution_count": 16,
   "metadata": {},
   "outputs": [
    {
     "name": "stdout",
     "output_type": "stream",
     "text": [
      "Proporción escogida en hojas finales: 1.0\n",
      "Profundidad escogida: 15\n",
      "Criterio : entropy\n"
     ]
    }
   ],
   "source": [
    "from sklearn.tree import DecisionTreeClassifier\n",
    "\n",
    "dt = DecisionTreeClassifier(random_state=0, class_weight='balanced')\n",
    "parameters = {'min_samples_leaf':[0.01, 0.05, 0.1, 0.15, 0.2],\n",
    "             'max_depth': [5,10,15,20,30],\n",
    "             \"criterion\": [\"gini\", \"entropy\"]}\n",
    "clf = GridSearchCV(dt, parameters, scoring = 'roc_auc', cv = 5)\n",
    "clf.fit(X_train[variables_pred], y_train)\n",
    "print('Proporción escogida en hojas finales: ' +str(clf.best_params_['min_samples_leaf']*100))\n",
    "print('Profundidad escogida: ' +str(clf.best_params_['max_depth']))\n",
    "print('Criterio : ' +str(clf.best_params_['criterion']))"
   ]
  },
  {
   "cell_type": "code",
   "execution_count": 17,
   "metadata": {},
   "outputs": [
    {
     "data": {
      "text/plain": [
       "DecisionTreeClassifier(class_weight='balanced', criterion='entropy',\n",
       "            max_depth=15, max_features=None, max_leaf_nodes=None,\n",
       "            min_impurity_decrease=0.0, min_impurity_split=None,\n",
       "            min_samples_leaf=0.01, min_samples_split=2,\n",
       "            min_weight_fraction_leaf=0.0, presort=False, random_state=0,\n",
       "            splitter='best')"
      ]
     },
     "execution_count": 17,
     "metadata": {},
     "output_type": "execute_result"
    }
   ],
   "source": [
    "dt_best = DecisionTreeClassifier(random_state=0, max_depth = clf.best_params_['max_depth'], class_weight='balanced',\n",
    "             min_samples_leaf = clf.best_params_['min_samples_leaf'] , criterion= clf.best_params_['criterion'])\n",
    "dt_best.fit(X_train[variables_pred], y_train)"
   ]
  },
  {
   "cell_type": "code",
   "execution_count": 18,
   "metadata": {},
   "outputs": [],
   "source": [
    "y_pred = dt_best.predict(X_train[variables_pred])\n",
    "y_pred_proba = dt_best.predict_proba(X_train[variables_pred])[:,1]\n",
    "measures_train = precision_recall_fscore_support(y_train, y_pred, average = 'binary')\n",
    "auc_train = roc_auc_score(y_train, y_pred_proba)\n",
    "accuracy_train = np.sum(y_train==y_pred) / len(X_train)\n",
    "resultados['DTree_Train'] = [measures_train[0],measures_train[1],measures_train[2],auc_train,accuracy_train]"
   ]
  },
  {
   "cell_type": "code",
   "execution_count": 19,
   "metadata": {},
   "outputs": [
    {
     "name": "stdout",
     "output_type": "stream",
     "text": [
      "--- 80.00123429298401 seconds ---\n"
     ]
    },
    {
     "data": {
      "text/html": [
       "<div>\n",
       "<style scoped>\n",
       "    .dataframe tbody tr th:only-of-type {\n",
       "        vertical-align: middle;\n",
       "    }\n",
       "\n",
       "    .dataframe tbody tr th {\n",
       "        vertical-align: top;\n",
       "    }\n",
       "\n",
       "    .dataframe thead th {\n",
       "        text-align: right;\n",
       "    }\n",
       "</style>\n",
       "<table border=\"1\" class=\"dataframe\">\n",
       "  <thead>\n",
       "    <tr style=\"text-align: right;\">\n",
       "      <th></th>\n",
       "      <th>Metric</th>\n",
       "      <th>LR_Train</th>\n",
       "      <th>LR_Test</th>\n",
       "      <th>DTree_Train</th>\n",
       "      <th>DTree_Test</th>\n",
       "    </tr>\n",
       "  </thead>\n",
       "  <tbody>\n",
       "    <tr>\n",
       "      <th>0</th>\n",
       "      <td>Precision</td>\n",
       "      <td>0.413726</td>\n",
       "      <td>0.429102</td>\n",
       "      <td>0.342844</td>\n",
       "      <td>0.345936</td>\n",
       "    </tr>\n",
       "    <tr>\n",
       "      <th>1</th>\n",
       "      <td>Recall</td>\n",
       "      <td>0.813885</td>\n",
       "      <td>0.819149</td>\n",
       "      <td>0.873264</td>\n",
       "      <td>0.865248</td>\n",
       "    </tr>\n",
       "    <tr>\n",
       "      <th>2</th>\n",
       "      <td>F-Score</td>\n",
       "      <td>0.548586</td>\n",
       "      <td>0.563186</td>\n",
       "      <td>0.492379</td>\n",
       "      <td>0.494261</td>\n",
       "    </tr>\n",
       "    <tr>\n",
       "      <th>3</th>\n",
       "      <td>AUC</td>\n",
       "      <td>0.910104</td>\n",
       "      <td>0.915491</td>\n",
       "      <td>0.905731</td>\n",
       "      <td>0.901350</td>\n",
       "    </tr>\n",
       "    <tr>\n",
       "      <th>4</th>\n",
       "      <td>Accuracy</td>\n",
       "      <td>0.843299</td>\n",
       "      <td>0.851396</td>\n",
       "      <td>0.789348</td>\n",
       "      <td>0.792922</td>\n",
       "    </tr>\n",
       "  </tbody>\n",
       "</table>\n",
       "</div>"
      ],
      "text/plain": [
       "      Metric  LR_Train   LR_Test  DTree_Train  DTree_Test\n",
       "0  Precision  0.413726  0.429102     0.342844    0.345936\n",
       "1     Recall  0.813885  0.819149     0.873264    0.865248\n",
       "2    F-Score  0.548586  0.563186     0.492379    0.494261\n",
       "3        AUC  0.910104  0.915491     0.905731    0.901350\n",
       "4   Accuracy  0.843299  0.851396     0.789348    0.792922"
      ]
     },
     "execution_count": 19,
     "metadata": {},
     "output_type": "execute_result"
    }
   ],
   "source": [
    "y_pred_test_dt  = dt_best.predict(X_test[variables_pred])\n",
    "y_pred_proba_test_dt = dt_best.predict_proba(X_test[variables_pred])[:,1]\n",
    "\n",
    "measures_test = precision_recall_fscore_support(y_test, y_pred_test_dt, average = 'binary')\n",
    "auc_test = roc_auc_score(y_test, y_pred_proba_test_dt)\n",
    "accuracy_test = np.sum(y_test==y_pred_test_dt) / len(X_test)\n",
    "resultados['DTree_Test'] = [measures_test[0],measures_test[1],measures_test[2],auc_test,accuracy_test]\n",
    "print(\"--- %s seconds ---\" % (time.time() - start_time))\n",
    "resultados"
   ]
  },
  {
   "cell_type": "markdown",
   "metadata": {},
   "source": [
    "# 4.- Red Neuronal\n",
    "En primer lugar, vamos a definir la red neuronal."
   ]
  },
  {
   "cell_type": "code",
   "execution_count": 11,
   "metadata": {},
   "outputs": [
    {
     "name": "stderr",
     "output_type": "stream",
     "text": [
      "Using TensorFlow backend.\n"
     ]
    }
   ],
   "source": [
    "import tensorflow as tf\n",
    "import keras as keras\n",
    "from keras.models import Sequential\n",
    "from keras.layers import Dense, Activation, Dropout\n",
    "from keras.initializers import he_normal \n",
    "from sklearn.utils import class_weight\n",
    "class_weights = class_weight.compute_class_weight('balanced',\n",
    "                                                 np.unique(y_train),\n",
    "                                                 y_train)\n",
    "def Red_Neuronal(optimizer = 'Adam', activation='elu' ):\n",
    "\n",
    "    keras.backend.clear_session()\n",
    "    nn1 = Sequential()\n",
    "    \n",
    "    #Capa 1:\n",
    "    nn1.add(Dense(len(variables_pred), input_dim=len(variables_pred), kernel_initializer=he_normal()))\n",
    "    nn1.add(Activation(activation))\n",
    "    nn1.add(Dropout(0.3))\n",
    "    #Capa 2:\n",
    "    nn1.add(Dense(len(variables_pred), kernel_initializer=he_normal()))\n",
    "    nn1.add(Activation(activation))\n",
    "    nn1.add(Dropout(0.1))\n",
    "    \n",
    "    #Capa 3:\n",
    "    nn1.add(Dense(len(variables_pred), kernel_initializer=he_normal()))\n",
    "    nn1.add(Activation(activation))\n",
    "    nn1.add(Dropout(0.1))\n",
    "\n",
    "    #Capa 4 - Final:\n",
    "    nn1.add(Dense(1))\n",
    "    nn1.add(Activation('sigmoid'))\n",
    "    #Se compila la red neuronal\n",
    "    nn1.compile(loss='binary_crossentropy', optimizer=optimizer,metrics=[\"accuracy\"])\n",
    "    return nn1   "
   ]
  },
  {
   "cell_type": "markdown",
   "metadata": {},
   "source": [
    "#### Se crea el modelo de red neuronal"
   ]
  },
  {
   "cell_type": "code",
   "execution_count": 12,
   "metadata": {},
   "outputs": [],
   "source": [
    "from keras.wrappers.scikit_learn import KerasClassifier\n",
    "nn1 = KerasClassifier(build_fn=Red_Neuronal)"
   ]
  },
  {
   "cell_type": "markdown",
   "metadata": {},
   "source": [
    "#### Se determinan los hiperparámetros para la red neuronal"
   ]
  },
  {
   "cell_type": "code",
   "execution_count": 13,
   "metadata": {},
   "outputs": [],
   "source": [
    "from keras.callbacks import EarlyStopping\n",
    "from keras.callbacks import ModelCheckpoint\n",
    "from keras.models import load_model\n",
    "stopped = EarlyStopping(monitor='val_loss', verbose=1, patience=75,min_delta=1e-7, mode='min', baseline=0.18,restore_best_weights=False )\n",
    "best_model = ModelCheckpoint(filepath='Best_nn.hdf5', monitor='val_loss', mode='min', verbose=1, save_best_only=True)"
   ]
  },
  {
   "cell_type": "code",
   "execution_count": 16,
   "metadata": {},
   "outputs": [
    {
     "name": "stdout",
     "output_type": "stream",
     "text": [
      "Train on 14467 samples, validate on 7234 samples\n",
      "Epoch 1/1\n",
      "14467/14467 [==============================] - 1s 71us/step - loss: 0.3426 - acc: 0.8696 - val_loss: 0.2328 - val_acc: 0.8976\n",
      "\n",
      "Epoch 00001: val_loss did not improve from 0.21551\n",
      "14467/14467 [==============================] - 0s 14us/step\n",
      "14467/14467 [==============================] - 0s 14us/step\n",
      "Train on 14467 samples, validate on 7234 samples\n",
      "Epoch 1/1\n",
      "14467/14467 [==============================] - 1s 74us/step - loss: 0.3122 - acc: 0.8833 - val_loss: 0.2285 - val_acc: 0.8980\n",
      "\n",
      "Epoch 00001: val_loss did not improve from 0.21551\n",
      "14467/14467 [==============================] - 0s 12us/step\n",
      "14467/14467 [==============================] - 0s 14us/step\n",
      "Train on 14467 samples, validate on 7234 samples\n",
      "Epoch 1/1\n",
      "14467/14467 [==============================] - 1s 72us/step - loss: 0.3330 - acc: 0.8785 - val_loss: 0.2390 - val_acc: 0.8911\n",
      "\n",
      "Epoch 00001: val_loss did not improve from 0.21551\n",
      "14467/14467 [==============================] - 0s 16us/step\n",
      "14467/14467 [==============================] - 0s 15us/step\n",
      "Train on 14467 samples, validate on 7234 samples\n",
      "Epoch 1/1\n",
      "14467/14467 [==============================] - 1s 66us/step - loss: 0.3409 - acc: 0.8819 - val_loss: 0.2390 - val_acc: 0.8996\n",
      "\n",
      "Epoch 00001: val_loss did not improve from 0.21551\n",
      "14467/14467 [==============================] - 0s 13us/step\n",
      "14467/14467 [==============================] - 0s 13us/step\n",
      "Train on 14467 samples, validate on 7234 samples\n",
      "Epoch 1/1\n",
      "14467/14467 [==============================] - 1s 69us/step - loss: 0.3405 - acc: 0.8716 - val_loss: 0.2221 - val_acc: 0.9043\n",
      "\n",
      "Epoch 00001: val_loss did not improve from 0.21551\n",
      "14467/14467 [==============================] - 0s 14us/step\n",
      "14467/14467 [==============================] - 0s 14us/step\n",
      "Train on 14467 samples, validate on 7234 samples\n",
      "Epoch 1/1\n",
      "14467/14467 [==============================] - 1s 73us/step - loss: 0.3183 - acc: 0.8772 - val_loss: 0.2268 - val_acc: 0.9034\n",
      "\n",
      "Epoch 00001: val_loss did not improve from 0.21551\n",
      "14467/14467 [==============================] - 0s 15us/step\n",
      "14467/14467 [==============================] - 0s 15us/step\n",
      "Train on 14467 samples, validate on 7234 samples\n",
      "Epoch 1/1\n",
      "14467/14467 [==============================] - 1s 72us/step - loss: 0.3481 - acc: 0.8628 - val_loss: 0.2305 - val_acc: 0.8983\n",
      "\n",
      "Epoch 00001: val_loss did not improve from 0.21551\n",
      "14467/14467 [==============================] - 0s 13us/step\n",
      "14467/14467 [==============================] - 0s 13us/step\n",
      "Train on 14467 samples, validate on 7234 samples\n",
      "Epoch 1/1\n",
      "14467/14467 [==============================] - 1s 63us/step - loss: 0.3304 - acc: 0.8764 - val_loss: 0.2301 - val_acc: 0.8998\n",
      "\n",
      "Epoch 00001: val_loss did not improve from 0.21551\n",
      "14467/14467 [==============================] - 0s 16us/step\n",
      "14467/14467 [==============================] - 0s 15us/step\n",
      "Train on 28934 samples, validate on 7234 samples\n",
      "Epoch 1/1\n",
      "28934/28934 [==============================] - 1s 49us/step - loss: 0.2880 - acc: 0.8819 - val_loss: 0.2181 - val_acc: 0.9020\n",
      "\n",
      "Epoch 00001: val_loss did not improve from 0.21551\n",
      "Optimizer escogido: Nadam\n",
      "Función de activación escogida: elu\n",
      "Epochs escogidos: 1\n"
     ]
    }
   ],
   "source": [
    "from sklearn.model_selection import GridSearchCV\n",
    "parameter = {'optimizer' : ['Nadam', 'Adam'  ],\n",
    "            'activation' : ['relu', 'elu'],\n",
    "            'epochs':[1]}\n",
    "\n",
    "clf1 =  GridSearchCV(estimator=nn1, param_grid=parameter, cv=2)\n",
    "NN_2=clf1.fit(X_train_norm, y_train, validation_data=(X_test_norm,y_test),\n",
    "                    batch_size=32, class_weight=class_weights, verbose=1, callbacks=[stopped,best_model])\n",
    "\n",
    "print('Optimizer escogido: ' +str(NN_2.best_params_['optimizer']))\n",
    "print('Función de activación escogida: ' +str(NN_2.best_params_['activation']))\n",
    "print('Epochs escogidos: ' +str(NN_2.best_params_['epochs']))"
   ]
  },
  {
   "cell_type": "code",
   "execution_count": 17,
   "metadata": {},
   "outputs": [
    {
     "name": "stdout",
     "output_type": "stream",
     "text": [
      "Optimizer escogido: Nadam\n",
      "Función de activación escogida: elu\n",
      "Epochs escogidos: 1\n",
      "_________________________________________________________________\n",
      "Layer (type)                 Output Shape              Param #   \n",
      "=================================================================\n",
      "dense_1 (Dense)              (None, 45)                2070      \n",
      "_________________________________________________________________\n",
      "activation_1 (Activation)    (None, 45)                0         \n",
      "_________________________________________________________________\n",
      "dropout_1 (Dropout)          (None, 45)                0         \n",
      "_________________________________________________________________\n",
      "dense_2 (Dense)              (None, 45)                2070      \n",
      "_________________________________________________________________\n",
      "activation_2 (Activation)    (None, 45)                0         \n",
      "_________________________________________________________________\n",
      "dropout_2 (Dropout)          (None, 45)                0         \n",
      "_________________________________________________________________\n",
      "dense_3 (Dense)              (None, 45)                2070      \n",
      "_________________________________________________________________\n",
      "activation_3 (Activation)    (None, 45)                0         \n",
      "_________________________________________________________________\n",
      "dropout_3 (Dropout)          (None, 45)                0         \n",
      "_________________________________________________________________\n",
      "dense_4 (Dense)              (None, 1)                 46        \n",
      "_________________________________________________________________\n",
      "activation_4 (Activation)    (None, 1)                 0         \n",
      "=================================================================\n",
      "Total params: 6,256\n",
      "Trainable params: 6,256\n",
      "Non-trainable params: 0\n",
      "_________________________________________________________________\n"
     ]
    }
   ],
   "source": [
    "from keras.models import load_model\n",
    "NN_3 = load_model('Best_nn.hdf5')\n",
    "print('Optimizer escogido: ' +str(NN_2.best_params_['optimizer']))\n",
    "print('Función de activación escogida: ' +str(NN_2.best_params_['activation']))\n",
    "print('Epochs escogidos: ' +str(NN_2.best_params_['epochs']))\n",
    "NN_3.summary()"
   ]
  },
  {
   "cell_type": "code",
   "execution_count": 32,
   "metadata": {},
   "outputs": [],
   "source": [
    "y_pred_proba = NN_3.predict(X_train_norm)\n",
    "y_pred = np.zeros((len(y_pred_proba),1))\n",
    "y_pred[y_pred_proba>0.2] = 1 # No predice nada con grandes probabilidades\n",
    "y_pred = y_pred.reshape((-1,))\n",
    "\n",
    "measures_train = precision_recall_fscore_support(y_train, y_pred, average = 'binary')\n",
    "auc_train = roc_auc_score(y_train, y_pred_proba)\n",
    "accuracy_train = np.sum(y_train==y_pred) / len(X_train)\n",
    "resultados['NN_Train'] = [measures_train[0],measures_train[1],measures_train[2],auc_train,accuracy_train]"
   ]
  },
  {
   "cell_type": "markdown",
   "metadata": {},
   "source": [
    "#### Se testea al modelo."
   ]
  },
  {
   "cell_type": "code",
   "execution_count": 35,
   "metadata": {},
   "outputs": [
    {
     "name": "stdout",
     "output_type": "stream",
     "text": [
      "--- 2771.3521065711975 seconds ---\n"
     ]
    },
    {
     "data": {
      "text/html": [
       "<div>\n",
       "<style scoped>\n",
       "    .dataframe tbody tr th:only-of-type {\n",
       "        vertical-align: middle;\n",
       "    }\n",
       "\n",
       "    .dataframe tbody tr th {\n",
       "        vertical-align: top;\n",
       "    }\n",
       "\n",
       "    .dataframe thead th {\n",
       "        text-align: right;\n",
       "    }\n",
       "</style>\n",
       "<table border=\"1\" class=\"dataframe\">\n",
       "  <thead>\n",
       "    <tr style=\"text-align: right;\">\n",
       "      <th></th>\n",
       "      <th>Metric</th>\n",
       "      <th>LR_Train</th>\n",
       "      <th>LR_Test</th>\n",
       "      <th>DTree_Train</th>\n",
       "      <th>DTree_Test</th>\n",
       "      <th>NN_Train</th>\n",
       "      <th>NN_Test</th>\n",
       "    </tr>\n",
       "  </thead>\n",
       "  <tbody>\n",
       "    <tr>\n",
       "      <th>0</th>\n",
       "      <td>Precision</td>\n",
       "      <td>0.413726</td>\n",
       "      <td>0.429102</td>\n",
       "      <td>0.342844</td>\n",
       "      <td>0.345936</td>\n",
       "      <td>0.556761</td>\n",
       "      <td>0.559910</td>\n",
       "    </tr>\n",
       "    <tr>\n",
       "      <th>1</th>\n",
       "      <td>Recall</td>\n",
       "      <td>0.813885</td>\n",
       "      <td>0.819149</td>\n",
       "      <td>0.873264</td>\n",
       "      <td>0.865248</td>\n",
       "      <td>0.879468</td>\n",
       "      <td>0.878251</td>\n",
       "    </tr>\n",
       "    <tr>\n",
       "      <th>2</th>\n",
       "      <td>F-Score</td>\n",
       "      <td>0.548586</td>\n",
       "      <td>0.563186</td>\n",
       "      <td>0.492379</td>\n",
       "      <td>0.494261</td>\n",
       "      <td>0.681860</td>\n",
       "      <td>0.683847</td>\n",
       "    </tr>\n",
       "    <tr>\n",
       "      <th>3</th>\n",
       "      <td>AUC</td>\n",
       "      <td>0.910104</td>\n",
       "      <td>0.915491</td>\n",
       "      <td>0.905731</td>\n",
       "      <td>0.901350</td>\n",
       "      <td>0.959163</td>\n",
       "      <td>0.960653</td>\n",
       "    </tr>\n",
       "    <tr>\n",
       "      <th>4</th>\n",
       "      <td>Accuracy</td>\n",
       "      <td>0.843299</td>\n",
       "      <td>0.851396</td>\n",
       "      <td>0.789348</td>\n",
       "      <td>0.792922</td>\n",
       "      <td>0.903988</td>\n",
       "      <td>0.905032</td>\n",
       "    </tr>\n",
       "  </tbody>\n",
       "</table>\n",
       "</div>"
      ],
      "text/plain": [
       "      Metric  LR_Train   LR_Test  DTree_Train  DTree_Test  NN_Train   NN_Test\n",
       "0  Precision  0.413726  0.429102     0.342844    0.345936  0.556761  0.559910\n",
       "1     Recall  0.813885  0.819149     0.873264    0.865248  0.879468  0.878251\n",
       "2    F-Score  0.548586  0.563186     0.492379    0.494261  0.681860  0.683847\n",
       "3        AUC  0.910104  0.915491     0.905731    0.901350  0.959163  0.960653\n",
       "4   Accuracy  0.843299  0.851396     0.789348    0.792922  0.903988  0.905032"
      ]
     },
     "execution_count": 35,
     "metadata": {},
     "output_type": "execute_result"
    }
   ],
   "source": [
    "y_pred_proba_test_nn = NN_3.predict(X_test_norm)\n",
    "y_pred_test_nn = np.zeros((len(y_pred_proba_test_nn),1))\n",
    "y_pred_test_nn[y_pred_proba_test_nn>0.2] = 1 # No predice nada con grandes probabilidades\n",
    "y_pred_test_nn = y_pred_test_nn.reshape((-1,))\n",
    "\n",
    "measures_test = precision_recall_fscore_support(y_test, y_pred_test_nn, average = 'binary')\n",
    "auc_test = roc_auc_score(y_test, y_pred_proba_test_nn)\n",
    "accuracy_test = np.sum(y_test==y_pred_test_nn) / len(X_test)\n",
    "resultados['NN_Test'] = [measures_test[0],measures_test[1],measures_test[2],auc_test,accuracy_test]\n",
    "print(\"--- %s seconds ---\" % (time.time() - start_time))\n",
    "resultados"
   ]
  },
  {
   "cell_type": "markdown",
   "metadata": {},
   "source": [
    "# 5.- Comparación de los modelos.\n",
    "Para poder comparar los tres modelos presentados, vamos a graficar la curva ROC de los modelos de forma conjunta, expresando en la esquina inferior derecha, el valor obtenido bajo la curva."
   ]
  },
  {
   "cell_type": "code",
   "execution_count": 37,
   "metadata": {},
   "outputs": [
    {
     "data": {
      "image/png": "[encoded data removed]",
      "text/plain": [
       "<Figure size 640x480 with 1 Axes>"
      ]
     },
     "metadata": {},
     "output_type": "display_data"
    }
   ],
   "source": [
    "from matplotlib.pyplot import figure\n",
    "import matplotlib.pyplot as plt\n",
    "from sklearn import metrics\n",
    "\n",
    "figure(num=None, figsize=(8, 6), dpi=80, facecolor='w', edgecolor='k')\n",
    "\n",
    "fpr_rl, tpr_rl, t_rl = metrics.roc_curve(y_test, y_pred_proba_test_rl)\n",
    "plt.plot(fpr_rl,tpr_rl, label=(\"RL = %.3f\" %resultados.iloc[3,2]))\n",
    "\n",
    "fpr_dt, tpr_dt, t_dt = metrics.roc_curve(y_test, y_pred_proba_test_dt)\n",
    "plt.plot(fpr_dt,tpr_dt, label=(\"DT = %.3f\" %resultados.iloc[3,4]))\n",
    "\n",
    "fpr_nn, tpr_nn, t_nn = metrics.roc_curve(y_test, y_pred_proba_test_nn)\n",
    "plt.plot(fpr_nn,tpr_nn, label=(\"NN = %.3f\" %resultados.iloc[3,6]))\n",
    "\n",
    "x = np.linspace(0, 1, 100)\n",
    "plt.plot(x,x, label=(\"Diagonal\"))\n",
    "\n",
    "plt.xlabel('1-Specificity = FPR')\n",
    "plt.ylabel('Sensivity = TPR')\n",
    "plt.title('Curva ROC')\n",
    "\n",
    "plt.legend(loc=4)\n",
    "plt.show()"
   ]
  },
  {
   "cell_type": "markdown",
   "metadata": {},
   "source": [
    "### Elección del mejor modelo.\n",
    "Para poder decantarnos por un modelo, vamos a escoger aquel que presente el mejor AUC, siendo el mejor, la Red Neuronal."
   ]
  },
  {
   "cell_type": "markdown",
   "metadata": {},
   "source": [
    "# 6.- Entrenamiento final y predicción.\n",
    "Antes de poder predecir sobre la base test, necesitamos entrenar el mejor modelo en la base data total."
   ]
  },
  {
   "cell_type": "code",
   "execution_count": 38,
   "metadata": {},
   "outputs": [
    {
     "name": "stdout",
     "output_type": "stream",
     "text": [
      "Epoch 1/100\n",
      "36168/36168 [==============================] - 3s 87us/step - loss: 0.1807 - acc: 0.9181\n",
      "Epoch 2/100\n",
      "36168/36168 [==============================] - 3s 91us/step - loss: 0.1810 - acc: 0.9181\n",
      "Epoch 3/100\n",
      "36168/36168 [==============================] - 3s 87us/step - loss: 0.1808 - acc: 0.9193\n",
      "Epoch 4/100\n",
      "36168/36168 [==============================] - 3s 89us/step - loss: 0.1818 - acc: 0.9181\n",
      "Epoch 5/100\n",
      "36168/36168 [==============================] - 3s 93us/step - loss: 0.1796 - acc: 0.9199\n",
      "Epoch 6/100\n",
      "36168/36168 [==============================] - 3s 92us/step - loss: 0.1810 - acc: 0.9176\n",
      "Epoch 7/100\n",
      "36168/36168 [==============================] - 3s 86us/step - loss: 0.1801 - acc: 0.9180\n",
      "Epoch 8/100\n",
      "36168/36168 [==============================] - 3s 85us/step - loss: 0.1803 - acc: 0.9189\n",
      "Epoch 9/100\n",
      "36168/36168 [==============================] - 3s 95us/step - loss: 0.1808 - acc: 0.9165\n",
      "Epoch 10/100\n",
      "36168/36168 [==============================] - 3s 89us/step - loss: 0.1796 - acc: 0.9182\n",
      "Epoch 11/100\n",
      "36168/36168 [==============================] - 3s 88us/step - loss: 0.1801 - acc: 0.9179\n",
      "Epoch 12/100\n",
      "36168/36168 [==============================] - 3s 87us/step - loss: 0.1812 - acc: 0.9168\n",
      "Epoch 13/100\n",
      "36168/36168 [==============================] - 3s 85us/step - loss: 0.1795 - acc: 0.9191\n",
      "Epoch 14/100\n",
      "36168/36168 [==============================] - 3s 85us/step - loss: 0.1802 - acc: 0.9183\n",
      "Epoch 15/100\n",
      "36168/36168 [==============================] - 3s 92us/step - loss: 0.1803 - acc: 0.9187\n",
      "Epoch 16/100\n",
      "36168/36168 [==============================] - 3s 96us/step - loss: 0.1801 - acc: 0.9182\n",
      "Epoch 17/100\n",
      "36168/36168 [==============================] - 3s 86us/step - loss: 0.1788 - acc: 0.9185\n",
      "Epoch 18/100\n",
      "36168/36168 [==============================] - 3s 90us/step - loss: 0.1793 - acc: 0.9189\n",
      "Epoch 19/100\n",
      "36168/36168 [==============================] - 3s 88us/step - loss: 0.1799 - acc: 0.9180\n",
      "Epoch 20/100\n",
      "36168/36168 [==============================] - 3s 89us/step - loss: 0.1793 - acc: 0.9195\n",
      "Epoch 21/100\n",
      "36168/36168 [==============================] - 3s 90us/step - loss: 0.1776 - acc: 0.9198\n",
      "Epoch 22/100\n",
      "36168/36168 [==============================] - 3s 90us/step - loss: 0.1791 - acc: 0.9192\n",
      "Epoch 23/100\n",
      "36168/36168 [==============================] - 4s 97us/step - loss: 0.1796 - acc: 0.9192\n",
      "Epoch 24/100\n",
      "36168/36168 [==============================] - 3s 94us/step - loss: 0.1804 - acc: 0.9173\n",
      "Epoch 25/100\n",
      "36168/36168 [==============================] - 3s 94us/step - loss: 0.1791 - acc: 0.9179\n",
      "Epoch 26/100\n",
      "36168/36168 [==============================] - 3s 83us/step - loss: 0.1798 - acc: 0.9188\n",
      "Epoch 27/100\n",
      "36168/36168 [==============================] - 3s 83us/step - loss: 0.1795 - acc: 0.9185\n",
      "Epoch 28/100\n",
      "36168/36168 [==============================] - 3s 83us/step - loss: 0.1798 - acc: 0.9189\n",
      "Epoch 29/100\n",
      "36168/36168 [==============================] - 3s 85us/step - loss: 0.1780 - acc: 0.9190\n",
      "Epoch 30/100\n",
      "36168/36168 [==============================] - 3s 92us/step - loss: 0.1791 - acc: 0.9192\n",
      "Epoch 31/100\n",
      "36168/36168 [==============================] - 3s 95us/step - loss: 0.1794 - acc: 0.9192\n",
      "Epoch 32/100\n",
      "36168/36168 [==============================] - 4s 98us/step - loss: 0.1795 - acc: 0.9194\n",
      "Epoch 33/100\n",
      "36168/36168 [==============================] - 3s 92us/step - loss: 0.1790 - acc: 0.9184\n",
      "Epoch 34/100\n",
      "36168/36168 [==============================] - 3s 91us/step - loss: 0.1789 - acc: 0.9201\n",
      "Epoch 35/100\n",
      "36168/36168 [==============================] - 3s 91us/step - loss: 0.1796 - acc: 0.9189\n",
      "Epoch 36/100\n",
      "36168/36168 [==============================] - 3s 91us/step - loss: 0.1795 - acc: 0.9195\n",
      "Epoch 37/100\n",
      "36168/36168 [==============================] - 3s 89us/step - loss: 0.1792 - acc: 0.9186\n",
      "Epoch 38/100\n",
      "36168/36168 [==============================] - 3s 90us/step - loss: 0.1807 - acc: 0.9187\n",
      "Epoch 39/100\n",
      "36168/36168 [==============================] - 3s 90us/step - loss: 0.1796 - acc: 0.9198\n",
      "Epoch 40/100\n",
      "36168/36168 [==============================] - 4s 99us/step - loss: 0.1782 - acc: 0.9207\n",
      "Epoch 41/100\n",
      "36168/36168 [==============================] - 3s 89us/step - loss: 0.1786 - acc: 0.9205\n",
      "Epoch 42/100\n",
      "36168/36168 [==============================] - 3s 91us/step - loss: 0.1797 - acc: 0.9186\n",
      "Epoch 43/100\n",
      "36168/36168 [==============================] - 3s 90us/step - loss: 0.1796 - acc: 0.9186\n",
      "Epoch 44/100\n",
      "36168/36168 [==============================] - 3s 91us/step - loss: 0.1771 - acc: 0.9204\n",
      "Epoch 45/100\n",
      "36168/36168 [==============================] - 3s 95us/step - loss: 0.1780 - acc: 0.9193\n",
      "Epoch 46/100\n",
      "36168/36168 [==============================] - 3s 89us/step - loss: 0.1780 - acc: 0.9201\n",
      "Epoch 47/100\n",
      "36168/36168 [==============================] - 3s 95us/step - loss: 0.1788 - acc: 0.9195\n",
      "Epoch 48/100\n",
      "36168/36168 [==============================] - 3s 89us/step - loss: 0.1772 - acc: 0.9191\n",
      "Epoch 49/100\n",
      "36168/36168 [==============================] - 3s 96us/step - loss: 0.1762 - acc: 0.9211\n",
      "Epoch 50/100\n",
      "36168/36168 [==============================] - 3s 85us/step - loss: 0.1780 - acc: 0.9200\n",
      "Epoch 51/100\n",
      "36168/36168 [==============================] - 3s 84us/step - loss: 0.1793 - acc: 0.9191\n",
      "Epoch 52/100\n",
      "36168/36168 [==============================] - 3s 84us/step - loss: 0.1792 - acc: 0.9189\n",
      "Epoch 53/100\n",
      "36168/36168 [==============================] - 3s 86us/step - loss: 0.1790 - acc: 0.9198\n",
      "Epoch 54/100\n",
      "36168/36168 [==============================] - 4s 97us/step - loss: 0.1792 - acc: 0.9187\n",
      "Epoch 55/100\n",
      "36168/36168 [==============================] - 4s 104us/step - loss: 0.1783 - acc: 0.9187\n",
      "Epoch 56/100\n",
      "36168/36168 [==============================] - 4s 98us/step - loss: 0.1778 - acc: 0.9199\n",
      "Epoch 57/100\n",
      "36168/36168 [==============================] - 3s 93us/step - loss: 0.1779 - acc: 0.9195\n",
      "Epoch 58/100\n",
      "36168/36168 [==============================] - 3s 95us/step - loss: 0.1779 - acc: 0.9187\n",
      "Epoch 59/100\n",
      "36168/36168 [==============================] - 4s 99us/step - loss: 0.1769 - acc: 0.9203\n",
      "Epoch 60/100\n",
      "36168/36168 [==============================] - 3s 95us/step - loss: 0.1786 - acc: 0.9189\n",
      "Epoch 61/100\n",
      "36168/36168 [==============================] - 3s 95us/step - loss: 0.1774 - acc: 0.9194\n",
      "Epoch 62/100\n",
      "36168/36168 [==============================] - 3s 94us/step - loss: 0.1770 - acc: 0.9191\n",
      "Epoch 63/100\n",
      "36168/36168 [==============================] - 4s 100us/step - loss: 0.1786 - acc: 0.9196\n",
      "Epoch 64/100\n",
      "36168/36168 [==============================] - 3s 96us/step - loss: 0.1796 - acc: 0.9191\n",
      "Epoch 65/100\n",
      "36168/36168 [==============================] - 3s 85us/step - loss: 0.1770 - acc: 0.9195\n",
      "Epoch 66/100\n",
      "36168/36168 [==============================] - 3s 84us/step - loss: 0.1776 - acc: 0.9196\n",
      "Epoch 67/100\n",
      "36168/36168 [==============================] - 3s 96us/step - loss: 0.1768 - acc: 0.9205\n",
      "Epoch 68/100\n",
      "36168/36168 [==============================] - 4s 111us/step - loss: 0.1789 - acc: 0.9185\n",
      "Epoch 69/100\n",
      "36168/36168 [==============================] - 3s 88us/step - loss: 0.1802 - acc: 0.9192\n",
      "Epoch 70/100\n",
      "36168/36168 [==============================] - 3s 82us/step - loss: 0.1782 - acc: 0.9206\n",
      "Epoch 71/100\n",
      "36168/36168 [==============================] - 3s 81us/step - loss: 0.1789 - acc: 0.9184\n",
      "Epoch 72/100\n",
      "36168/36168 [==============================] - 3s 82us/step - loss: 0.1760 - acc: 0.9213\n",
      "Epoch 73/100\n",
      "36168/36168 [==============================] - 3s 91us/step - loss: 0.1771 - acc: 0.9207\n",
      "Epoch 74/100\n",
      "36168/36168 [==============================] - 3s 89us/step - loss: 0.1782 - acc: 0.9200\n",
      "Epoch 75/100\n",
      "36168/36168 [==============================] - 3s 87us/step - loss: 0.1770 - acc: 0.9203\n",
      "Epoch 76/100\n",
      "36168/36168 [==============================] - 3s 95us/step - loss: 0.1779 - acc: 0.9193\n",
      "Epoch 77/100\n",
      "36168/36168 [==============================] - 4s 98us/step - loss: 0.1772 - acc: 0.9206\n",
      "Epoch 78/100\n",
      "36168/36168 [==============================] - 4s 98us/step - loss: 0.1774 - acc: 0.9198\n",
      "Epoch 79/100\n",
      "36168/36168 [==============================] - 3s 95us/step - loss: 0.1770 - acc: 0.9199\n",
      "Epoch 80/100\n",
      "36168/36168 [==============================] - 3s 95us/step - loss: 0.1772 - acc: 0.9200\n",
      "Epoch 81/100\n",
      "36168/36168 [==============================] - 3s 93us/step - loss: 0.1799 - acc: 0.9178\n",
      "Epoch 82/100\n",
      "36168/36168 [==============================] - 3s 92us/step - loss: 0.1771 - acc: 0.9207\n",
      "Epoch 83/100\n",
      "36168/36168 [==============================] - 3s 95us/step - loss: 0.1773 - acc: 0.9199\n",
      "Epoch 84/100\n",
      "36168/36168 [==============================] - 3s 93us/step - loss: 0.1772 - acc: 0.9203\n",
      "Epoch 85/100\n",
      "36168/36168 [==============================] - 3s 93us/step - loss: 0.1769 - acc: 0.9196\n",
      "Epoch 86/100\n",
      "36168/36168 [==============================] - 3s 92us/step - loss: 0.1786 - acc: 0.9189\n",
      "Epoch 87/100\n",
      "36168/36168 [==============================] - 3s 92us/step - loss: 0.1772 - acc: 0.9203\n",
      "Epoch 88/100\n",
      "36168/36168 [==============================] - 3s 96us/step - loss: 0.1786 - acc: 0.9197\n",
      "Epoch 89/100\n",
      "36168/36168 [==============================] - 3s 92us/step - loss: 0.1777 - acc: 0.9202\n",
      "Epoch 90/100\n",
      "36168/36168 [==============================] - 3s 93us/step - loss: 0.1780 - acc: 0.9182\n",
      "Epoch 91/100\n",
      "36168/36168 [==============================] - 3s 93us/step - loss: 0.1771 - acc: 0.9201\n",
      "Epoch 92/100\n",
      "36168/36168 [==============================] - 3s 95us/step - loss: 0.1783 - acc: 0.9199\n",
      "Epoch 93/100\n",
      "36168/36168 [==============================] - 3s 95us/step - loss: 0.1764 - acc: 0.9206\n",
      "Epoch 94/100\n",
      "36168/36168 [==============================] - 3s 93us/step - loss: 0.1788 - acc: 0.9187\n",
      "Epoch 95/100\n",
      "36168/36168 [==============================] - 3s 93us/step - loss: 0.1784 - acc: 0.9206\n",
      "Epoch 96/100\n",
      "36168/36168 [==============================] - 3s 92us/step - loss: 0.1780 - acc: 0.9189\n",
      "Epoch 97/100\n",
      "36168/36168 [==============================] - 4s 98us/step - loss: 0.1777 - acc: 0.9213\n",
      "Epoch 98/100\n",
      "36168/36168 [==============================] - 3s 93us/step - loss: 0.1770 - acc: 0.9194\n",
      "Epoch 99/100\n",
      "36168/36168 [==============================] - 3s 93us/step - loss: 0.1761 - acc: 0.9204\n",
      "Epoch 100/100\n",
      "36168/36168 [==============================] - 3s 94us/step - loss: 0.1782 - acc: 0.9193\n"
     ]
    },
    {
     "data": {
      "text/plain": [
       "<keras.callbacks.History at 0x242e02f5d30>"
      ]
     },
     "execution_count": 38,
     "metadata": {},
     "output_type": "execute_result"
    }
   ],
   "source": [
    "NN_3.fit(X_train_total_norm, y_train_total,\n",
    "                    batch_size=32, class_weight=class_weights, epochs=NN_2.best_params_['epochs'],  verbose=1)"
   ]
  },
  {
   "cell_type": "markdown",
   "metadata": {},
   "source": [
    "### Predicción.\n",
    "Como ya entrenamos el mejor modelo, procedemos a predecir sobre nuestra base test."
   ]
  },
  {
   "cell_type": "code",
   "execution_count": 39,
   "metadata": {},
   "outputs": [],
   "source": [
    "test_2_norm = pd.DataFrame(norm_mean_train_total.transform(test_2[variables_pred]), \n",
    "                            columns = test_2[variables_pred].columns)"
   ]
  },
  {
   "cell_type": "code",
   "execution_count": 40,
   "metadata": {},
   "outputs": [],
   "source": [
    "y_clientes = test.iloc[:,0]\n",
    "predictions = NN_3.predict(test_2_norm[variables_pred])"
   ]
  },
  {
   "cell_type": "markdown",
   "metadata": {},
   "source": [
    "### Creación del archivo CSV.\n",
    "Se crea un archivo csv con la prediccion para cada ID."
   ]
  },
  {
   "cell_type": "code",
   "execution_count": 41,
   "metadata": {},
   "outputs": [],
   "source": [
    "columns = ['Prediccion']\n",
    "y_clientes = pd.DataFrame(y_clientes)\n",
    "df_predict = pd.DataFrame(predictions, columns=columns)\n",
    "prediccion= pd.concat([y_clientes, df_predict], axis=1,)\n",
    "prediccion\n",
    "prediccion.to_csv('Diaz_Gallardo_Quilapan.csv', index=False)"
   ]
  },
  {
   "cell_type": "code",
   "execution_count": null,
   "metadata": {},
   "outputs": [],
   "source": []
  }
 ],
 "metadata": {
  "kernelspec": {
   "display_name": "Python 3",
   "language": "python",
   "name": "python3"
  },
  "language_info": {
   "codemirror_mode": {
    "name": "ipython",
    "version": 3
   },
   "file_extension": ".py",
   "mimetype": "text/x-python",
   "name": "python",
   "nbconvert_exporter": "python",
   "pygments_lexer": "ipython3",
   "version": "3.7.1"
  }
 },
 "nbformat": 4,
 "nbformat_minor": 2
}
